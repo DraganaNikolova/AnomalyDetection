{
 "cells": [
  {
   "cell_type": "code",
   "execution_count": 1,
   "id": "e250fc8a",
   "metadata": {},
   "outputs": [],
   "source": [
    "# Load the dataset\n",
    "import pandas as pd\n",
    "train_numerical = pd.read_pickle(\"features_v3.pkl\") # only numerical"
   ]
  },
  {
   "cell_type": "code",
   "execution_count": 2,
   "id": "50515686",
   "metadata": {},
   "outputs": [],
   "source": [
    "# Import used libraries\n",
    "from imblearn.over_sampling import SMOTE # solving imbalanced dataset\n",
    "from sklearn.model_selection import train_test_split\n",
    "\n",
    "import xgboost as xgb # model\n",
    "from xgboost import XGBClassifier # model\n",
    "\n",
    "# evaluation metrics\n",
    "from sklearn import metrics\n",
    "from sklearn.metrics import fbeta_score\n",
    "from sklearn.metrics import matthews_corrcoef\n",
    "from sklearn.metrics import roc_auc_score\n",
    "\n",
    "# parametar tuning\n",
    "from sklearn.model_selection import GridSearchCV"
   ]
  },
  {
   "cell_type": "code",
   "execution_count": 3,
   "id": "313974ec",
   "metadata": {},
   "outputs": [
    {
     "name": "stdout",
     "output_type": "stream",
     "text": [
      "100000 100000\n",
      "198870 198870\n"
     ]
    }
   ],
   "source": [
    "# Numerical + balancing with SMOTE\n",
    "df = train_numerical.sample(n = 100000)\n",
    "# Replace nulls with mean\n",
    "df = df.fillna(df.mean())\n",
    "X = df[0:100000].drop(columns=['Id', 'Response'])\n",
    "y = df[0:100000]['Response']\n",
    "print(len(X), len(y))\n",
    "oversample = SMOTE()\n",
    "X, y = oversample.fit_resample(X, y)\n",
    "print(len(X), len(y))"
   ]
  },
  {
   "cell_type": "markdown",
   "id": "75edddc6",
   "metadata": {},
   "source": [
    "### Based on https://www.analyticsvidhya.com/blog/2016/03/complete-guide-parameter-tuning-xgboost-with-codes-python/#h2_4"
   ]
  },
  {
   "cell_type": "markdown",
   "id": "2619f88e",
   "metadata": {},
   "source": [
    "### Parameter tuning for max_depth and min_child_weight"
   ]
  },
  {
   "cell_type": "code",
   "execution_count": null,
   "id": "26e53358",
   "metadata": {},
   "outputs": [],
   "source": [
    "param_test1 = {'max_depth':range(3,10,2),'min_child_weight':range(1,6,2)}\n",
    "gsearch1 = GridSearchCV(estimator = XGBClassifier(learning_rate =0.1, n_estimators=100, max_depth=5,min_child_weight=1, gamma=0, subsample=0.8, colsample_bytree=0.8,bjective= 'binary:logistic', nthread=4, scale_pos_weight=1, seed=27), param_grid = param_test1, scoring='roc_auc',n_jobs=4, cv=5)\n",
    "gsearch1.fit(X,y)\n",
    "gsearch1.grid_scores_, gsearch1.best_params_, gsearch1.best_score_"
   ]
  },
  {
   "cell_type": "markdown",
   "id": "24124746",
   "metadata": {},
   "source": [
    "### Parameter tuning for gamma"
   ]
  },
  {
   "cell_type": "code",
   "execution_count": null,
   "id": "38d257aa",
   "metadata": {},
   "outputs": [],
   "source": [
    "param_test2 = {'gamma':[i/10.0 for i in range(0,5)]}\n",
    "gsearch2 = GridSearchCV(estimator = XGBClassifier( learning_rate =0.1, n_estimators=140, max_depth=4,min_child_weight=6, gamma=0, subsample=0.8, colsample_bytree=0.8,objective= 'binary:logistic', nthread=4, scale_pos_weight=1,seed=27), param_grid = param_test2, scoring='roc_auc',n_jobs=4,iid=False, cv=5)\n",
    "gsearch2.fit(train[predictors],train[target])\n",
    "gsearch2.grid_scores_, gsearch3.best_params_, gsearch3.best_score_"
   ]
  },
  {
   "cell_type": "markdown",
   "id": "6b252ce0",
   "metadata": {},
   "source": [
    "### Parameter tuning for subsample and colsample_bytree"
   ]
  },
  {
   "cell_type": "code",
   "execution_count": null,
   "id": "ff0102da",
   "metadata": {},
   "outputs": [],
   "source": [
    "param_test3 = {'subsample':[i/100.0 for i in range(75,90,5)],'colsample_bytree':[i/100.0 for i in range(75,90,5)]}\n",
    "gsearch3 = GridSearchCV(estimator = XGBClassifier( learning_rate =0.1, n_estimators=177, max_depth=4,min_child_weight=6, gamma=0, subsample=0.8, colsample_bytree=0.8,objective= 'binary:logistic', nthread=4, scale_pos_weight=1,seed=27), param_grid = param_test3, scoring='roc_auc',n_jobs=4,iid=False, cv=5)\n",
    "gsearch3.fit(train[predictors],train[target])\n",
    "gsearch3.grid_scores_, gsearch3.best_params_, gsearch3.best_score_"
   ]
  },
  {
   "cell_type": "markdown",
   "id": "d6372dad",
   "metadata": {},
   "source": [
    "### Parameter tuning for reg_alpha"
   ]
  },
  {
   "cell_type": "code",
   "execution_count": null,
   "id": "8d1310b5",
   "metadata": {},
   "outputs": [],
   "source": [
    "param_test4 = {'reg_alpha':[0, 0.001, 0.005, 0.01, 0.05]}\n",
    "gsearch4 = GridSearchCV(estimator = XGBClassifier( learning_rate =0.1, n_estimators=177, max_depth=4,min_child_weight=6, gamma=0.1, subsample=0.8, colsample_bytree=0.8,objective= 'binary:logistic', nthread=4, scale_pos_weight=1,seed=27), param_grid = param_test4, scoring='roc_auc',n_jobs=4,iid=False, cv=5)\n",
    "gsearch4.fit(train[predictors],train[target])\n",
    "gsearch4.grid_scores_, gsearch4.best_params_, gsearch4.best_score_"
   ]
  }
 ],
 "metadata": {
  "kernelspec": {
   "display_name": "Python 3 (ipykernel)",
   "language": "python",
   "name": "python3"
  },
  "language_info": {
   "codemirror_mode": {
    "name": "ipython",
    "version": 3
   },
   "file_extension": ".py",
   "mimetype": "text/x-python",
   "name": "python",
   "nbconvert_exporter": "python",
   "pygments_lexer": "ipython3",
   "version": "3.9.7"
  }
 },
 "nbformat": 4,
 "nbformat_minor": 5
}

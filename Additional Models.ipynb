{
 "cells": [
  {
   "cell_type": "code",
   "execution_count": 1,
   "id": "263d6d86",
   "metadata": {},
   "outputs": [],
   "source": [
    "# Import used libraries\n",
    "from imblearn.over_sampling import SMOTE # solving imbalanced dataset\n",
    "from sklearn.model_selection import train_test_split\n",
    "\n",
    "from sklearn.ensemble import RandomForestClassifier # model\n",
    "import lightgbm as lgb # model\n",
    "\n",
    "# evaluation metrics\n",
    "from sklearn import metrics\n",
    "from sklearn.metrics import fbeta_score\n",
    "from sklearn.metrics import matthews_corrcoef\n",
    "from sklearn.metrics import roc_auc_score\n",
    "\n",
    "# parametar tuning\n",
    "from sklearn.model_selection import GridSearchCV\n",
    "\n",
    "import pandas as pd\n",
    "from sklearn import preprocessing\n",
    "from matplotlib import pyplot as plt\n",
    "import numpy as np"
   ]
  },
  {
   "cell_type": "code",
   "execution_count": 3,
   "id": "ac059e20",
   "metadata": {},
   "outputs": [
    {
     "name": "stdout",
     "output_type": "stream",
     "text": [
      "106879 106879\n",
      "198908 198908\n",
      "MCC : 0.06539\n",
      "AUC Score: 0.617734\n"
     ]
    }
   ],
   "source": [
    "# Random forrest\n",
    "train_numerical = pd.read_pickle(\"features_v10.pkl\") # only numerical\n",
    "train_date = pd.read_pickle(\"train_date_features.pkl\")\n",
    "# Standardize date\n",
    "train_date = train_date.fillna(train_date.mean())\n",
    "for column in train_date.columns:\n",
    "    if column == 'Id': continue\n",
    "    train_date[column] = (train_date[column] - train_date[column].mean()) / train_date[column].std()\n",
    "train_features = pd.merge(train_date, train_numerical)\n",
    "train_features.columns = train_features.columns.astype(str)\n",
    "\n",
    "# Replace nulls with mean\n",
    "train_features = train_features.fillna(train_features.mean())\n",
    "\n",
    "# Include all faults\n",
    "df = train_features.sample(n=100000)\n",
    "faults = train_features[train_features['Response']==1]\n",
    "df = pd.concat([faults,df])\n",
    "\n",
    "X = df.drop(columns=['Id', 'Response'])\n",
    "y = df['Response']\n",
    "print(len(X), len(y))\n",
    "oversample = SMOTE()\n",
    "X, y = oversample.fit_resample(X, y)\n",
    "print(len(X), len(y))\n",
    "\n",
    "test = train_features.sample(n=20000)\n",
    "X_test = test.drop(columns=['Id', 'Response'])\n",
    "y_test = test['Response']\n",
    "\n",
    "model = RandomForestClassifier(max_depth=10, random_state=0)\n",
    "model.fit(X, y)\n",
    "\n",
    "# Predict\n",
    "y_pred = model.predict(X_test)\n",
    "        \n",
    "# Print model report:\n",
    "print(\"MCC : %.4g\" % matthews_corrcoef(y_test, y_pred))\n",
    "print(\"AUC Score: %f\" % metrics.roc_auc_score(y_test, y_pred))"
   ]
  },
  {
   "cell_type": "code",
   "execution_count": 2,
   "id": "5e8d6e53",
   "metadata": {},
   "outputs": [
    {
     "name": "stdout",
     "output_type": "stream",
     "text": [
      "106879 106879\n",
      "198822 198822\n"
     ]
    },
    {
     "name": "stderr",
     "output_type": "stream",
     "text": [
      "C:\\Users\\draga\\anaconda3\\lib\\site-packages\\lightgbm\\engine.py:177: UserWarning: Found `num_iterations` in params. Will use it instead of argument\n",
      "  _log_warning(f\"Found `{alias}` in params. Will use it instead of argument\")\n"
     ]
    },
    {
     "name": "stdout",
     "output_type": "stream",
     "text": [
      "[LightGBM] [Warning] boosting is set=gbdt, boosting_type=gbdt will be ignored. Current value: boosting=gbdt\n",
      "MCC : 0.1496\n",
      "AUC Score: 0.576547\n"
     ]
    }
   ],
   "source": [
    "# LightGBM\n",
    "# Random forrest\n",
    "train_numerical = pd.read_pickle(\"features_v10.pkl\") # only numerical\n",
    "train_date = pd.read_pickle(\"train_date_features.pkl\")\n",
    "# Standardize date\n",
    "train_date = train_date.fillna(train_date.mean())\n",
    "for column in train_date.columns:\n",
    "    if column == 'Id': continue\n",
    "    train_date[column] = (train_date[column] - train_date[column].mean()) / train_date[column].std()\n",
    "train_features = pd.merge(train_date, train_numerical)\n",
    "train_features.columns = train_features.columns.astype(str)\n",
    "\n",
    "# Replace nulls with mean\n",
    "train_features = train_features.fillna(train_features.mean())\n",
    "\n",
    "# Include all faults\n",
    "df = train_features.sample(n=100000)\n",
    "faults = train_features[train_features['Response']==1]\n",
    "df = pd.concat([faults,df])\n",
    "\n",
    "X = df.drop(columns=['Id', 'Response'])\n",
    "y = df['Response']\n",
    "print(len(X), len(y))\n",
    "oversample = SMOTE()\n",
    "X, y = oversample.fit_resample(X, y)\n",
    "print(len(X), len(y))\n",
    "\n",
    "test = train_features.sample(n=20000)\n",
    "X_test = test.drop(columns=['Id', 'Response'])\n",
    "y_test = test['Response']\n",
    "\n",
    "model = lgb.LGBMClassifier(max_depth=10,num_iterations=100, boosting='gbdt',application='binary',metric='binary_logloss')\n",
    "model.fit(X, y)\n",
    "\n",
    "# Predict\n",
    "y_pred = model.predict(X_test)\n",
    "        \n",
    "# Print model report:\n",
    "print(\"MCC : %.4g\" % matthews_corrcoef(y_test, y_pred))\n",
    "print(\"AUC Score: %f\" % metrics.roc_auc_score(y_test, y_pred))\n",
    "\n",
    "# MCC : 0.1033\n",
    "# AUC Score: 0.550648"
   ]
  }
 ],
 "metadata": {
  "kernelspec": {
   "display_name": "Python 3 (ipykernel)",
   "language": "python",
   "name": "python3"
  },
  "language_info": {
   "codemirror_mode": {
    "name": "ipython",
    "version": 3
   },
   "file_extension": ".py",
   "mimetype": "text/x-python",
   "name": "python",
   "nbconvert_exporter": "python",
   "pygments_lexer": "ipython3",
   "version": "3.9.7"
  }
 },
 "nbformat": 4,
 "nbformat_minor": 5
}

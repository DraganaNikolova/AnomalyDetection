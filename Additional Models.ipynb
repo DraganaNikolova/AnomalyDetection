{
 "cells": [
  {
   "cell_type": "code",
   "execution_count": 1,
   "id": "c15a3c17",
   "metadata": {},
   "outputs": [],
   "source": [
    "# Import used libraries\n",
    "from imblearn.over_sampling import SMOTE # solving imbalanced dataset\n",
    "from sklearn.model_selection import train_test_split\n",
    "\n",
    "from sklearn.ensemble import RandomForestClassifier # model\n",
    "import lightgbm as lgb # model\n",
    "\n",
    "# evaluation metrics\n",
    "from sklearn import metrics\n",
    "from sklearn.metrics import fbeta_score\n",
    "from sklearn.metrics import matthews_corrcoef\n",
    "from sklearn.metrics import roc_auc_score\n",
    "\n",
    "# parametar tuning\n",
    "from sklearn.model_selection import GridSearchCV\n",
    "\n",
    "import pandas as pd\n",
    "from sklearn import preprocessing\n",
    "from matplotlib import pyplot as plt\n",
    "import numpy as np"
   ]
  },
  {
   "cell_type": "code",
   "execution_count": 2,
   "id": "baee1378",
   "metadata": {},
   "outputs": [
    {
     "name": "stdout",
     "output_type": "stream",
     "text": [
      "598753 598753\n",
      "1176860 1176860\n"
     ]
    }
   ],
   "source": [
    "# Dataset\n",
    "train_numerical = pd.read_pickle(\"features_v9.pkl\") # only numerical\n",
    "train_date = pd.read_pickle(\"train_date_extended.pkl\")\n",
    "train_date = train_date[['Id', 'max', 'min', 'time_difference','min_time_station','max_time_station','path_length','part_week_start','part_week_end','day_of_week_start','day_of_week_end','parts_in_same_time','faults_next_1_hour','faults_next_10_hours','faults_next_24_hours','faults_last_1_hour','faults_last_10_hours','faults_last_24_hours']]\n",
    "# Standardize date\n",
    "train_date = train_date.fillna(train_date.mean())\n",
    "for column in train_date.columns:\n",
    "    if column == 'Id': continue\n",
    "    train_date[column] = (train_date[column] - train_date[column].mean()) / train_date[column].std()\n",
    "train_features = pd.merge(train_date, train_numerical)\n",
    "train_features.columns = train_features.columns.astype(str)\n",
    "\n",
    "# Include all faults\n",
    "df = train_features.sample(n=round(len(train_features)/2))\n",
    "faults = train_features[train_features['Response']==1]\n",
    "df = pd.concat([faults,df])\n",
    "\n",
    "# Replace nulls with mean\n",
    "df = df.fillna(10)\n",
    "X = df.drop(columns=['Id', 'Response'])\n",
    "y = df['Response']\n",
    "print(len(X), len(y))\n",
    "oversample = SMOTE()\n",
    "X, y = oversample.fit_resample(X, y)\n",
    "X = X.replace(10, np.nan)\n",
    "print(len(X), len(y))"
   ]
  },
  {
   "cell_type": "code",
   "execution_count": 3,
   "id": "05f3f500",
   "metadata": {},
   "outputs": [
    {
     "name": "stdout",
     "output_type": "stream",
     "text": [
      "MCC : 0.8099\n",
      "AUC Score: 0.903517\n"
     ]
    }
   ],
   "source": [
    "from sklearn.ensemble import AdaBoostClassifier\n",
    "\n",
    "# split data into training and test sets\n",
    "X_train, X_test, y_train, y_test = train_test_split(X, y, test_size=0.2, random_state=42)\n",
    "\n",
    "# create and train the AdaBoost classifier\n",
    "clf = AdaBoostClassifier(n_estimators=100, random_state=42)\n",
    "X_train = X_train.fillna(X.mean())\n",
    "clf.fit(X_train, y_train)\n",
    "\n",
    "# make predictions on the test set\n",
    "X_test = X_test.fillna(X.mean())\n",
    "y_pred = clf.predict(X_test)\n",
    "\n",
    "# Print model report:\n",
    "print(\"MCC : %.4g\" % matthews_corrcoef(y_test, y_pred))\n",
    "print(\"AUC Score: %f\" % metrics.roc_auc_score(y_test, y_pred))"
   ]
  },
  {
   "cell_type": "code",
   "execution_count": 4,
   "id": "311e4da3",
   "metadata": {},
   "outputs": [
    {
     "name": "stdout",
     "output_type": "stream",
     "text": [
      "MCC : 0.1871\n",
      "AUC Score: 0.629177\n",
      "              precision    recall  f1-score   support\n",
      "\n",
      "         0.0       0.99      0.97      0.98    588395\n",
      "         1.0       0.15      0.29      0.20     10358\n",
      "\n",
      "    accuracy                           0.96    598753\n",
      "   macro avg       0.57      0.63      0.59    598753\n",
      "weighted avg       0.97      0.96      0.97    598753\n",
      "\n"
     ]
    }
   ],
   "source": [
    "# PREDICT TRAINING DATA\n",
    "df = df\n",
    "df = df.fillna(np.nan)\n",
    "\n",
    "# Predict\n",
    "y_pred = clf.predict(df.drop(columns=['Id', 'Response']))\n",
    "y_test = df['Response']\n",
    "# Print model report:\n",
    "print(\"MCC : %.4g\" % matthews_corrcoef(y_test, y_pred))\n",
    "print(\"AUC Score: %f\" % metrics.roc_auc_score(y_test, y_pred))\n",
    "print(metrics.classification_report(y_test, y_pred))"
   ]
  },
  {
   "cell_type": "code",
   "execution_count": 5,
   "id": "845d9f02",
   "metadata": {},
   "outputs": [
    {
     "name": "stdout",
     "output_type": "stream",
     "text": [
      "MCC : 0.6138\n",
      "AUC Score: 0.801738\n"
     ]
    }
   ],
   "source": [
    "from sklearn.ensemble import RandomForestClassifier\n",
    "\n",
    "# split data into training and test sets\n",
    "X_train, X_test, y_train, y_test = train_test_split(X, y, test_size=0.2, random_state=42)\n",
    "\n",
    "# create and train the Random Forest classifier\n",
    "clf = RandomForestClassifier(n_estimators=100, max_depth=5, random_state=42)\n",
    "X_train = X_train.fillna(X.mean())\n",
    "clf.fit(X_train, y_train)\n",
    "\n",
    "# make predictions on the test set\n",
    "X_test = X_test.fillna(X.mean())\n",
    "y_pred = clf.predict(X_test)\n",
    "\n",
    "# Print model report:\n",
    "print(\"MCC : %.4g\" % matthews_corrcoef(y_test, y_pred))\n",
    "print(\"AUC Score: %f\" % metrics.roc_auc_score(y_test, y_pred))"
   ]
  },
  {
   "cell_type": "code",
   "execution_count": 6,
   "id": "ba002531",
   "metadata": {},
   "outputs": [
    {
     "name": "stdout",
     "output_type": "stream",
     "text": [
      "MCC : 0.1486\n",
      "AUC Score: 0.705510\n",
      "              precision    recall  f1-score   support\n",
      "\n",
      "         0.0       0.99      0.85      0.92    588395\n",
      "         1.0       0.06      0.56      0.11     10358\n",
      "\n",
      "    accuracy                           0.85    598753\n",
      "   macro avg       0.53      0.71      0.51    598753\n",
      "weighted avg       0.97      0.85      0.90    598753\n",
      "\n"
     ]
    }
   ],
   "source": [
    "# PREDICT TRAINING DATA\n",
    "df = df\n",
    "df = df.fillna(np.nan)\n",
    "\n",
    "# Predict\n",
    "y_pred = clf.predict(df.drop(columns=['Id', 'Response']))\n",
    "y_test = df['Response']\n",
    "# Print model report:\n",
    "print(\"MCC : %.4g\" % matthews_corrcoef(y_test, y_pred))\n",
    "print(\"AUC Score: %f\" % metrics.roc_auc_score(y_test, y_pred))\n",
    "print(metrics.classification_report(y_test, y_pred))"
   ]
  },
  {
   "cell_type": "code",
   "execution_count": 7,
   "id": "e2ef4a47",
   "metadata": {},
   "outputs": [
    {
     "name": "stderr",
     "output_type": "stream",
     "text": [
      "C:\\Users\\draga\\anaconda3\\lib\\site-packages\\lightgbm\\engine.py:177: UserWarning: Found `num_iterations` in params. Will use it instead of argument\n",
      "  _log_warning(f\"Found `{alias}` in params. Will use it instead of argument\")\n"
     ]
    },
    {
     "name": "stdout",
     "output_type": "stream",
     "text": [
      "[LightGBM] [Warning] boosting is set=gbdt, boosting_type=gbdt will be ignored. Current value: boosting=gbdt\n",
      "MCC : 0.8917\n",
      "AUC Score: 0.945110\n"
     ]
    }
   ],
   "source": [
    "# LightGBM\n",
    "\n",
    "# split data into training and test sets\n",
    "X_train, X_test, y_train, y_test = train_test_split(X, y, test_size=0.2, random_state=42)\n",
    "\n",
    "model = lgb.LGBMClassifier(max_depth=10,num_iterations=100, boosting='gbdt',application='binary',metric='binary_logloss')\n",
    "model.fit(X_train, y_train)\n",
    "\n",
    "# Predict\n",
    "y_pred = model.predict(X_test)\n",
    "        \n",
    "# Print model report:\n",
    "print(\"MCC : %.4g\" % matthews_corrcoef(y_test, y_pred))\n",
    "print(\"AUC Score: %f\" % metrics.roc_auc_score(y_test, y_pred))"
   ]
  },
  {
   "cell_type": "code",
   "execution_count": 8,
   "id": "e941d660",
   "metadata": {},
   "outputs": [
    {
     "name": "stdout",
     "output_type": "stream",
     "text": [
      "MCC : 0.1312\n",
      "AUC Score: 0.691938\n",
      "              precision    recall  f1-score   support\n",
      "\n",
      "         0.0       0.99      0.83      0.90    588395\n",
      "         1.0       0.05      0.55      0.10     10358\n",
      "\n",
      "    accuracy                           0.82    598753\n",
      "   macro avg       0.52      0.69      0.50    598753\n",
      "weighted avg       0.97      0.82      0.89    598753\n",
      "\n"
     ]
    }
   ],
   "source": [
    "# PREDICT TRAINING DATA\n",
    "df = df\n",
    "df = df.fillna(np.nan)\n",
    "\n",
    "# Predict\n",
    "y_pred = model.predict(df.drop(columns=['Id', 'Response']))\n",
    "y_test = df['Response']\n",
    "# Print model report:\n",
    "print(\"MCC : %.4g\" % matthews_corrcoef(y_test, y_pred))\n",
    "print(\"AUC Score: %f\" % metrics.roc_auc_score(y_test, y_pred))\n",
    "print(metrics.classification_report(y_test, y_pred))"
   ]
  },
  {
   "cell_type": "code",
   "execution_count": 3,
   "id": "0c71017a",
   "metadata": {},
   "outputs": [
    {
     "name": "stdout",
     "output_type": "stream",
     "text": [
      "MCC : 0.9724\n",
      "AUC Score: 0.986143\n"
     ]
    }
   ],
   "source": [
    "from sklearn.tree import DecisionTreeClassifier\n",
    "# In the first step we will split the data in training and remaining dataset\n",
    "# X_train, X_rem, y_train, y_rem = train_test_split(X, y, train_size=0.6, random_state = 4)\n",
    "# X_val, X_test, y_val, y_test = train_test_split(X_rem, y_rem, test_size=0.5, random_state = 4)\n",
    "X_train, X_test, y_train, y_test = train_test_split(X, y, test_size=0.2, random_state=42)\n",
    "\n",
    "# Fit\n",
    "clf = DecisionTreeClassifier(random_state=42)\n",
    "X_train = X_train.fillna(X.mean())\n",
    "clf.fit(X_train, y_train)\n",
    "# Predict\n",
    "X_test = X_test.fillna(X.mean())\n",
    "y_pred = clf.predict(X_test)\n",
    "    \n",
    "# Print model report:\n",
    "print(\"MCC : %.4g\" % matthews_corrcoef(y_test, y_pred))\n",
    "print(\"AUC Score: %f\" % metrics.roc_auc_score(y_test, y_pred))"
   ]
  },
  {
   "cell_type": "code",
   "execution_count": null,
   "id": "9cbfd9d9",
   "metadata": {},
   "outputs": [],
   "source": [
    "# PREDICT TRAINING DATA\n",
    "df = df\n",
    "df = df.fillna(np.nan)\n",
    "\n",
    "# Predict\n",
    "y_pred = clf.predict(df.drop(columns=['Id', 'Response']))\n",
    "y_test = df['Response']\n",
    "# Print model report:\n",
    "print(\"MCC : %.4g\" % matthews_corrcoef(y_test, y_pred))\n",
    "print(\"AUC Score: %f\" % metrics.roc_auc_score(y_test, y_pred))\n",
    "print(metrics.classification_report(y_test, y_pred))"
   ]
  },
  {
   "cell_type": "code",
   "execution_count": 5,
   "id": "196e6919",
   "metadata": {},
   "outputs": [
    {
     "name": "stdout",
     "output_type": "stream",
     "text": [
      "MCC : 0.8372\n",
      "AUC Score: 0.917490\n"
     ]
    }
   ],
   "source": [
    "from sklearn.ensemble import GradientBoostingClassifier\n",
    "\n",
    "# split data into training and test sets\n",
    "X_train, X_test, y_train, y_test = train_test_split(X, y, test_size=0.2, random_state=42)\n",
    "\n",
    "# create and train the Gradient Boosting classifier\n",
    "clf = GradientBoostingClassifier(n_estimators=100, max_depth=3, learning_rate=0.1, random_state=42)\n",
    "X_train = X_train.fillna(X.mean())\n",
    "clf.fit(X_train, y_train)\n",
    "\n",
    "# make predictions on the test set\n",
    "X_test = X_test.fillna(X.mean())\n",
    "y_pred = clf.predict(X_test)\n",
    "\n",
    "# Print model report:\n",
    "print(\"MCC : %.4g\" % matthews_corrcoef(y_test, y_pred))\n",
    "print(\"AUC Score: %f\" % metrics.roc_auc_score(y_test, y_pred))"
   ]
  },
  {
   "cell_type": "code",
   "execution_count": null,
   "id": "3bd2521e",
   "metadata": {},
   "outputs": [],
   "source": [
    "# PREDICT TRAINING DATA\n",
    "df = df\n",
    "df = df.fillna(np.nan)\n",
    "\n",
    "# Predict\n",
    "y_pred = clf.predict(df.drop(columns=['Id', 'Response']))\n",
    "y_test = df['Response']\n",
    "# Print model report:\n",
    "print(\"MCC : %.4g\" % matthews_corrcoef(y_test, y_pred))\n",
    "print(\"AUC Score: %f\" % metrics.roc_auc_score(y_test, y_pred))\n",
    "print(metrics.classification_report(y_test, y_pred))"
   ]
  }
 ],
 "metadata": {
  "kernelspec": {
   "display_name": "Python 3 (ipykernel)",
   "language": "python",
   "name": "python3"
  },
  "language_info": {
   "codemirror_mode": {
    "name": "ipython",
    "version": 3
   },
   "file_extension": ".py",
   "mimetype": "text/x-python",
   "name": "python",
   "nbconvert_exporter": "python",
   "pygments_lexer": "ipython3",
   "version": "3.9.7"
  }
 },
 "nbformat": 4,
 "nbformat_minor": 5
}
